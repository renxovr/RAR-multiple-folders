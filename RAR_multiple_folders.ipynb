{
  "nbformat": 4,
  "nbformat_minor": 0,
  "metadata": {
    "colab": {
      "name": "RAR multiple folders.ipynb",
      "provenance": [],
      "collapsed_sections": [],
      "authorship_tag": "ABX9TyMVqiK/v9um0F1Q5yeuuS8B",
      "include_colab_link": true
    },
    "kernelspec": {
      "name": "python3",
      "display_name": "Python 3"
    },
    "language_info": {
      "name": "python"
    }
  },
  "cells": [
    {
      "cell_type": "markdown",
      "metadata": {
        "id": "view-in-github",
        "colab_type": "text"
      },
      "source": [
        "<a href=\"https://colab.research.google.com/github/renxovr/RAR-multiple-folders/blob/main/RAR_multiple_folders.ipynb\" target=\"_parent\"><img src=\"https://colab.research.google.com/assets/colab-badge.svg\" alt=\"Open In Colab\"/></a>"
      ]
    },
    {
      "cell_type": "code",
      "metadata": {
        "id": "TfWtGXmqbggL",
        "cellView": "form"
      },
      "source": [
        "#@markdown <br><center><img src='https://upload.wikimedia.org/wikipedia/commons/thumb/d/da/Google_Drive_logo.png/600px-Google_Drive_logo.png' height=\"50\" alt=\"Gdrive-logo\"/></center>\n",
        "#@markdown <center><h3>Mount GDrive to /content/drive</h3></center><br>\n",
        "MODE = \"MOUNT\" #@param [\"MOUNT\", \"UNMOUNT\"]\n",
        "#Mount your Gdrive! \n",
        "from google.colab import drive\n",
        "drive.mount._DEBUG = False\n",
        "if MODE == \"MOUNT\":\n",
        "  drive.mount('/content/drive', force_remount=True)\n",
        "elif MODE == \"UNMOUNT\":\n",
        "  try:\n",
        "    drive.flush_and_unmount()\n",
        "  except ValueError:\n",
        "    pass\n",
        "  get_ipython().system_raw(\"rm -rf /root/.config/Google/DriveFS\")"
      ],
      "execution_count": null,
      "outputs": []
    },
    {
      "cell_type": "markdown",
      "metadata": {
        "id": "zkkBU1rux7vG"
      },
      "source": [
        "#RAR multiple folders separately"
      ]
    },
    {
      "cell_type": "markdown",
      "metadata": {
        "id": "DsiulXVKmOz6"
      },
      "source": [
        "**First run this**"
      ]
    },
    {
      "cell_type": "code",
      "metadata": {
        "id": "UJ42aqIfmERq"
      },
      "source": [
        "!apt-get install rar"
      ],
      "execution_count": null,
      "outputs": []
    },
    {
      "cell_type": "markdown",
      "metadata": {
        "id": "mHlQy52_smEj"
      },
      "source": [
        "**Go ahead**"
      ]
    },
    {
      "cell_type": "code",
      "metadata": {
        "cellView": "form",
        "id": "NiSQ-5zNyNyo"
      },
      "source": [
        "import pathlib\n",
        "#@title Enter your parameters\n",
        "FOLDER_INPUT = \"\" #@param {type:\"string\"}\n",
        "FOLDER_OUTPUT = \"\" #@param {type:\"string\"}\n",
        "PASSWORD = \"\" #@param {type:\"string\"}\n",
        "SIZE = \"No\" #@param [\"No\", \"2G\", \"1G\", \"500M\"] {allow-input: true}\n",
        "#@markdown By: renxovr\n",
        "\n",
        "if PASSWORD != \"\": PASSWORD = \"-p\" + PASSWORD\n",
        "if SIZE != \"No\": SIZE = \"-v\" + SIZE\n",
        "else: SIZE = \"\"\n",
        "\n",
        "%cd \"$FOLDER_INPUT\"\n",
        "\n",
        "directory = pathlib.Path(FOLDER_INPUT)\n",
        "\n",
        "if FOLDER_OUTPUT[-1] != \"/\": FOLDER_OUTPUT = FOLDER_OUTPUT + \"/\"\n",
        "if FOLDER_INPUT[-1] != \"/\": FOLDER_INPUT = FOLDER_INPUT + \"/\"\n",
        "\n",
        "for file in directory.iterdir():\n",
        "  name = file.name\n",
        "  rar = FOLDER_OUTPUT + name\n",
        "  command = f'rar a -r {PASSWORD} {SIZE} \"{rar}\" \"{name}\"'\n",
        "  \n",
        "  !$command"
      ],
      "execution_count": null,
      "outputs": []
    }
  ]
}